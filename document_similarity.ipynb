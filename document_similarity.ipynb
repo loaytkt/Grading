{
 "cells": [
  {
   "cell_type": "code",
   "execution_count": 11,
   "metadata": {
    "scrolled": true
   },
   "outputs": [
    {
     "name": "stderr",
     "output_type": "stream",
     "text": [
      "[nltk_data] Downloading package stopwords to\n",
      "[nltk_data]     /home/cheeyau/nltk_data...\n",
      "[nltk_data]   Package stopwords is already up-to-date!\n",
      "[nltk_data] Downloading package punkt to /home/cheeyau/nltk_data...\n",
      "[nltk_data]   Package punkt is already up-to-date!\n"
     ]
    }
   ],
   "source": [
    "import PyPDF2\n",
    "from sentence_transformers import SentenceTransformer\n",
    "from sklearn.metrics.pairwise import cosine_similarity\n",
    "from nltk.corpus import stopwords\n",
    "from nltk.tokenize import word_tokenize\n",
    "import nltk\n",
    "nltk.download('stopwords')\n",
    "nltk.download('punkt')\n",
    "stop_words = set(stopwords.words('english'))\n",
    "stop_words.remove('not')"
   ]
  },
  {
   "cell_type": "code",
   "execution_count": null,
   "metadata": {},
   "outputs": [],
   "source": [
    "model = SentenceTransformer('sentence-transformers/all-mpnet-base-v2')"
   ]
  },
  {
   "cell_type": "markdown",
   "metadata": {},
   "source": [
    "## Read TXT"
   ]
  },
  {
   "cell_type": "code",
   "execution_count": 333,
   "metadata": {},
   "outputs": [],
   "source": [
    "def read_txt(filename):\n",
    "    with open('sample2.txt') as f:\n",
    "        text = f.readlines()\n",
    "    \n",
    "    return text"
   ]
  },
  {
   "cell_type": "markdown",
   "metadata": {},
   "source": [
    "## Read PDF"
   ]
  },
  {
   "cell_type": "code",
   "execution_count": 324,
   "metadata": {},
   "outputs": [],
   "source": [
    "def read_pdf(filename):\n",
    "    pdf = open(filename,'rb')\n",
    "    pdfReader = PyPDF2.PdfFileReader(pdf)\n",
    "    count = 0\n",
    "    text = \"\"\n",
    "    num_pages = pdfReader.numPages\n",
    "    while count < num_pages:\n",
    "        pageObj = pdfReader.getPage(count)\n",
    "        count +=1\n",
    "        text += pageObj.extractText()\n",
    "    text = text.replace('\\n',' ')\n",
    "    \n",
    "    return text"
   ]
  },
  {
   "cell_type": "markdown",
   "metadata": {},
   "source": [
    "## Get similarity score between two documents"
   ]
  },
  {
   "cell_type": "code",
   "execution_count": 327,
   "metadata": {},
   "outputs": [],
   "source": [
    "def sim_score(doc1,doc2):\n",
    "    token1 = word_tokenize(doc1)\n",
    "    filtered_doc1 = []\n",
    "    for word in token1:\n",
    "        if word not in stop_words:\n",
    "            filtered_doc1.append(word)\n",
    "    filtered_doc1= \" \".join(filtered_doc1)   \n",
    "\n",
    "    token2 = word_tokenize(doc2)\n",
    "    filtered_doc2 = []\n",
    "    for word in token2:\n",
    "        if word not in stop_words:\n",
    "            filtered_doc2.append(word)\n",
    "    filtered_doc2= \" \".join(filtered_doc2)\n",
    "    \n",
    "    filtered1_enc = model.encode(filtered_doc1)\n",
    "    filtered2_enc = model.encode(filtered_doc2)\n",
    "    score = cosine_similarity([filtered1_enc,filtered2_enc])[0][1]\n",
    "    \n",
    "    return score\n",
    "    "
   ]
  },
  {
   "cell_type": "code",
   "execution_count": 349,
   "metadata": {},
   "outputs": [
    {
     "data": {
      "text/plain": [
       "0.873993"
      ]
     },
     "execution_count": 349,
     "metadata": {},
     "output_type": "execute_result"
    }
   ],
   "source": [
    "doc1 = read_pdf('calculus1.pdf')\n",
    "doc2 = read_pdf('calculus2.pdf')\n",
    "sim_score(doc1,doc2)"
   ]
  },
  {
   "cell_type": "code",
   "execution_count": null,
   "metadata": {},
   "outputs": [],
   "source": []
  }
 ],
 "metadata": {
  "kernelspec": {
   "display_name": "Python 3",
   "language": "python",
   "name": "python3"
  },
  "language_info": {
   "codemirror_mode": {
    "name": "ipython",
    "version": 3
   },
   "file_extension": ".py",
   "mimetype": "text/x-python",
   "name": "python",
   "nbconvert_exporter": "python",
   "pygments_lexer": "ipython3",
   "version": "3.8.3"
  }
 },
 "nbformat": 4,
 "nbformat_minor": 4
}
